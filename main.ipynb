{
 "cells": [
  {
   "cell_type": "code",
   "execution_count": 1,
   "id": "3b6a503a",
   "metadata": {},
   "outputs": [],
   "source": [
    "#importing necessary libraries\n",
    "import tensorflow as tf\n",
    "from tensorflow.keras.models import load_model\n",
    "from tensorflow.keras.preprocessing.image import ImageDataGenerator\n",
    "from tensorflow.keras.utils import to_categorical\n",
    "import numpy as np\n",
    "import os\n",
    "import cv2"
   ]
  },
  {
   "cell_type": "code",
   "execution_count": 2,
   "id": "74d8c513",
   "metadata": {},
   "outputs": [],
   "source": [
    "#creating actualclass list\n",
    "actual = sorted(os.listdir(r'C:\\Users\\arpit\\asl_alphabet_test\\asl_alphabet_test'))"
   ]
  },
  {
   "cell_type": "code",
   "execution_count": 8,
   "id": "42d3da9b",
   "metadata": {},
   "outputs": [],
   "source": [
    "#loading model\n",
    "model = load_model(r\"asl_predictor (1).h5\")"
   ]
  },
  {
   "cell_type": "code",
   "execution_count": 4,
   "id": "347c8900",
   "metadata": {},
   "outputs": [],
   "source": [
    "#creating function to predict image\n",
    "def predict(img):\n",
    "    img = cv2.resize(img, (224,224))\n",
    "    img = np.expand_dims(img, axis=0)\n",
    "    img = img.astype(np.float64)\n",
    "    img /= 255\n",
    "    res = np.argmax(model.predict(img), axis = -1)[0]\n",
    "    return actual[res]"
   ]
  },
  {
   "cell_type": "code",
   "execution_count": null,
   "id": "7c3dd1aa",
   "metadata": {},
   "outputs": [],
   "source": [
    "#accessing webcam to capture video\n",
    "cap = cv2.VideoCapture(0)\n",
    "while True:\n",
    "    #reading frames amd  converting into rgb image\n",
    "    _,frame = cap.read()\n",
    "    rgb_img = cv2.cvtColor(frame, cv2.COLOR_RGB2BGR)\n",
    "    \n",
    "    #defining start and end coordinates for image to predict signs\n",
    "    start = (50, 50)\n",
    "    end = (274, 274)\n",
    "    \n",
    "    #slicing image and predicting class\n",
    "    img = rgb_img[start[0]:end[0], start[1]:end[1]]\n",
    "    res = predict(img)\n",
    "    \n",
    "    #puting prediction on frame and drawinf rectangle around start and end point\n",
    "    cv2.putText(frame, res, (50,40), cv2.FONT_HERSHEY_SIMPLEX, 1, (0,255,0), 1)\n",
    "    cv2.rectangle(frame, start, end, (0, 255, 0), 1)\n",
    "    \n",
    "    cv2.imshow(\"ASL_DETECTOR\", frame)\n",
    "    \n",
    "    #waiting for q to quit\n",
    "    if cv2.waitKey(1) == ord('q'):\n",
    "        break\n",
    "        \n",
    "#releasing webcam and destroying all windows\n",
    "cap.release()\n",
    "cv2.destroyAllWindows()"
   ]
  },
  {
   "cell_type": "code",
   "execution_count": 7,
   "id": "535a9385",
   "metadata": {},
   "outputs": [],
   "source": [
    "cap.release()"
   ]
  },
  {
   "cell_type": "code",
   "execution_count": null,
   "id": "f8c8d4db",
   "metadata": {},
   "outputs": [],
   "source": []
  }
 ],
 "metadata": {
  "kernelspec": {
   "display_name": "Python 3 (ipykernel)",
   "language": "python",
   "name": "python3"
  },
  "language_info": {
   "codemirror_mode": {
    "name": "ipython",
    "version": 3
   },
   "file_extension": ".py",
   "mimetype": "text/x-python",
   "name": "python",
   "nbconvert_exporter": "python",
   "pygments_lexer": "ipython3",
   "version": "3.9.12"
  }
 },
 "nbformat": 4,
 "nbformat_minor": 5
}
